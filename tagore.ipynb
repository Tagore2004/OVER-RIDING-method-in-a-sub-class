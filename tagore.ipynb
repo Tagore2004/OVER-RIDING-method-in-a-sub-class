{
 "cells": [
  {
   "cell_type": "code",
   "execution_count": 7,
   "id": "301396fd-24d9-4a7a-adc5-f417a192292d",
   "metadata": {},
   "outputs": [
    {
     "name": "stdout",
     "output_type": "stream",
     "text": [
      "Vehicle is starting\n",
      "Car is starting with a key\n",
      "bike is starting with the button\n"
     ]
    }
   ],
   "source": [
    "# OVER-RIDING method in a sub class\n",
    "class vehicle:#main class\n",
    "    def start(self):\n",
    "        print(\"Vehicle is starting\")\n",
    "class car(vehicle):#sub class\n",
    "    def start(self):\n",
    "        print(\"Car is starting with a key\")\n",
    "class bike(vehicle):\n",
    "    def start(self):\n",
    "        print(\"bike is starting with the button\")\n",
    "g = vehicle()\n",
    "c = car()\n",
    "b = bike()\n",
    "g.start()\n",
    "c.start()\n",
    "b.start()"
   ]
  },
  {
   "cell_type": "code",
   "execution_count": 11,
   "id": "222f4023-f106-418f-9ad3-5750527050be",
   "metadata": {},
   "outputs": [
    {
     "name": "stdout",
     "output_type": "stream",
     "text": [
      "caliculating...\n",
      "Deploy area of circle\n"
     ]
    }
   ],
   "source": [
    "# how to call parent methods\n",
    "''' over-riding , calling superclass atributes'''\n",
    "''' Program to caliculate the area of a circle by method overridng by calling  the superclass function.'''\n",
    "\n",
    "class shape:\n",
    "    def area(self):\n",
    "        print(\"Deploy area of circle\")\n",
    "class circle(shape):\n",
    "    def area(self):\n",
    "        print(\"caliculating...\")\n",
    "        super().area()#super function \n",
    "c = circle()\n",
    "c.area()\n"
   ]
  },
  {
   "cell_type": "code",
   "execution_count": 31,
   "id": "193a6883-dd12-48f1-a073-dfc0a03bfc82",
   "metadata": {},
   "outputs": [
    {
     "name": "stdout",
     "output_type": "stream",
     "text": [
      "Employee salary is 50000\n",
      "Manager salary is 55000\n",
      "Developer salary is 60000\n"
     ]
    }
   ],
   "source": [
    "# pasing the args and return values \n",
    "''' program to pass args of salaries of diferent designated employees from a super class to \n",
    "sub classes make uper cls as employee and derived class as manager and deelopper according pass\n",
    "the amount with 10% and 20% bonus '''\n",
    "\n",
    "class employee:\n",
    "    def amount(self, cash):\n",
    "        print(f\"Employee salary is {cash}\")\n",
    "class manager(employee):\n",
    "    def amount(self, cash):\n",
    "        print(\"Manager salary is\",round(cash*1.1))\n",
    "class developer(employee):\n",
    "    def amount(self,cash):\n",
    "        print(\"Developer salary is\",round(cash*1.2))\n",
    "e = employee()\n",
    "m = manager()\n",
    "d = developer()\n",
    "e.amount(50000)\n",
    "m.amount(50000)\n",
    "d.amount(50000)"
   ]
  },
  {
   "cell_type": "code",
   "execution_count": 33,
   "id": "5a744296-61ce-4188-90b9-5bd47314fdc1",
   "metadata": {},
   "outputs": [
    {
     "name": "stdout",
     "output_type": "stream",
     "text": [
      "Hey, How arr you, sir!!!\n",
      "Hey, How r u rey !!!\n",
      "Who the hell are you!!!\n"
     ]
    }
   ],
   "source": [
    "class person:\n",
    "    def hi(self):\n",
    "        return \"Hey, How arr you, sir!!!\"\n",
    "class friend:\n",
    "    def hi(self):\n",
    "        return \"Hey, How r u rey !!!\" \n",
    "class stranger:\n",
    "    def hi(self):\n",
    "        return \"Who the hell are you!!!\"\n",
    "p = person()\n",
    "f = friend()\n",
    "s = stranger()\n",
    "print(p.hi())\n",
    "print(f.hi())\n",
    "print(s.hi())"
   ]
  },
  {
   "cell_type": "code",
   "execution_count": 68,
   "id": "dc9b83a4-12e7-4906-9df2-350091165637",
   "metadata": {},
   "outputs": [
    {
     "name": "stdin",
     "output_type": "stream",
     "text": [
      "Enter number of rows a: 2\n",
      "Enter number of columns a: 2\n"
     ]
    },
    {
     "name": "stdout",
     "output_type": "stream",
     "text": [
      "Enter elements of the matrix a:\n"
     ]
    },
    {
     "name": "stdin",
     "output_type": "stream",
     "text": [
      "Row 1: 1 2\n",
      "Row 2: 3 4\n",
      "Enter number of rows b: 3\n",
      "Enter number of columns b: 3\n"
     ]
    },
    {
     "name": "stdout",
     "output_type": "stream",
     "text": [
      "Enter elements of the matrix b:\n"
     ]
    },
    {
     "name": "stdin",
     "output_type": "stream",
     "text": [
      "Row 1: 1 2 3 \n",
      "Row 2: 4 5 6\n",
      "Row 3: 7 8 9\n"
     ]
    },
    {
     "name": "stdout",
     "output_type": "stream",
     "text": [
      "Select operation:\n",
      "1.Addition\n",
      "2.Subtraction\n",
      "3.Multiply\n"
     ]
    },
    {
     "name": "stdin",
     "output_type": "stream",
     "text": [
      "Enter ourcoice(1/2/3): 2\n"
     ]
    },
    {
     "ename": "AttributeError",
     "evalue": "'subtract' object has no attribute 'matrix_ops'",
     "output_type": "error",
     "traceback": [
      "\u001b[1;31m---------------------------------------------------------------------------\u001b[0m",
      "\u001b[1;31mAttributeError\u001b[0m                            Traceback (most recent call last)",
      "Cell \u001b[1;32mIn[68], line 56\u001b[0m\n\u001b[0;32m     54\u001b[0m     \u001b[38;5;28mprint\u001b[39m(\u001b[38;5;124m\"\u001b[39m\u001b[38;5;124mInvalid choice\u001b[39m\u001b[38;5;124m\"\u001b[39m)\n\u001b[0;32m     55\u001b[0m     exit()\n\u001b[1;32m---> 56\u001b[0m result \u001b[38;5;241m=\u001b[39m op\u001b[38;5;241m.\u001b[39mmatrix_ops(a,b)\n\u001b[0;32m     57\u001b[0m \u001b[38;5;28;01mfor\u001b[39;00m r \u001b[38;5;129;01min\u001b[39;00m result:\n\u001b[0;32m     58\u001b[0m     \u001b[38;5;28mprint\u001b[39m(r)\n",
      "\u001b[1;31mAttributeError\u001b[0m: 'subtract' object has no attribute 'matrix_ops'"
     ]
    }
   ],
   "source": [
    "''' program to create a matrix operation clas to work with dierent opertaions like add, sub, mul wit separate dervied clases\n",
    "by manual input of matrice'''\n",
    "class matrix_ops:\n",
    "    def operate(self,a,b):\n",
    "        result = []\n",
    "        for i in range(len(a)):\n",
    "            r = []\n",
    "            for j in range(len(a[0])):\n",
    "                r.append(a[i][j]+b[i][j])\n",
    "                result.append(r)\n",
    "            return result\n",
    "class subtract(matrix_ops):\n",
    "    def operate(self,a,b):\n",
    "        result= []\n",
    "        for i in range(len(a)):\n",
    "            r = []\n",
    "            for j in range(len(a[0])):\n",
    "                r.append(a[i][j]-b[i][j])\n",
    "                result.append(r)\n",
    "            return result\n",
    "class multiply(matrix_ops):\n",
    "    def operate(self,a,b):\n",
    "        result = []\n",
    "        for i in range(len(a)):\n",
    "            r = []\n",
    "            for j in range(len(a[0])):\n",
    "                val = 0\n",
    "                for k in range(len(b)):\n",
    "                    val+=a[i][j]*b[k][j]\n",
    "                    r.append(val)\n",
    "                result.append(r)\n",
    "            return result\n",
    "def input_matrix(name):\n",
    "    r = int(input(f\"Enter number of rows {name}:\"))\n",
    "    c = int(input(f\"Enter number of columns {name}:\"))\n",
    "    matrix = []\n",
    "    print(f\"Enter elements of the matrix {name}:\")\n",
    "    for i in range(r):\n",
    "        r = list(map(int, input(f\"Row {i+1}:\").split()))\n",
    "        matrix.append(r)\n",
    "    return matrix\n",
    "a = input_matrix('a')\n",
    "b = input_matrix('b')\n",
    "print(\"Select operation:\")\n",
    "print(\"1.Addition\")\n",
    "print(\"2.Subtraction\")\n",
    "print(\"3.Multiply\")\n",
    "choice = input(\"Enter ourcoice(1/2/3):\")\n",
    "if choice == '1':\n",
    "    op = matrix_ops()\n",
    "elif choice =='2':\n",
    "    op = subtract()\n",
    "else:\n",
    "    print(\"Invalid choice\")\n",
    "    exit()\n",
    "result = op.matrix_ops(a,b)\n",
    "for r in result:\n",
    "    print(r)\n",
    "\n",
    "        "
   ]
  },
  {
   "cell_type": "code",
   "execution_count": null,
   "id": "5348d0a2-4cb7-4d0c-8412-1e74c0418ff8",
   "metadata": {},
   "outputs": [],
   "source": []
  },
  {
   "cell_type": "code",
   "execution_count": null,
   "id": "2e3ca392-9e35-43c4-8df2-acdd0d0b0b11",
   "metadata": {},
   "outputs": [],
   "source": [
    "\n"
   ]
  },
  {
   "cell_type": "code",
   "execution_count": null,
   "id": "24c88c18-d8f9-4d83-8715-136e2cc2875a",
   "metadata": {},
   "outputs": [],
   "source": []
  },
  {
   "cell_type": "code",
   "execution_count": null,
   "id": "2205cff4-5a06-4caa-b0e8-28da7832a732",
   "metadata": {},
   "outputs": [],
   "source": []
  },
  {
   "cell_type": "code",
   "execution_count": null,
   "id": "ae0c39e0-bcd7-47b2-98ea-6414fca1aac9",
   "metadata": {},
   "outputs": [],
   "source": []
  }
 ],
 "metadata": {
  "kernelspec": {
   "display_name": "Python 3 (ipykernel)",
   "language": "python",
   "name": "python3"
  },
  "language_info": {
   "codemirror_mode": {
    "name": "ipython",
    "version": 3
   },
   "file_extension": ".py",
   "mimetype": "text/x-python",
   "name": "python",
   "nbconvert_exporter": "python",
   "pygments_lexer": "ipython3",
   "version": "3.12.7"
  }
 },
 "nbformat": 4,
 "nbformat_minor": 5
}
